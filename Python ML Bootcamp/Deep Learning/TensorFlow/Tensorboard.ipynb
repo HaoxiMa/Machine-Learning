{
 "cells": [
  {
   "cell_type": "markdown",
   "metadata": {},
   "source": [
    "# Tensorboard\n",
    "\n",
    "\n",
    "Let's explore the built in data visualization capabilities that come with Tensorboard.\n",
    "\n",
    "Full official tutorial available here: https://www.tensorflow.org/tensorboard/get_started\n",
    "\n",
    "## Data"
   ]
  },
  {
   "cell_type": "code",
   "execution_count": 36,
   "metadata": {},
   "outputs": [],
   "source": [
    "import pandas as pd\n",
    "import numpy as np"
   ]
  },
  {
   "cell_type": "code",
   "execution_count": 37,
   "metadata": {},
   "outputs": [],
   "source": [
    "df = pd.read_csv('../DATA/cancer_classification.csv')"
   ]
  },
  {
   "cell_type": "markdown",
   "metadata": {},
   "source": [
    "### Train Test Split"
   ]
  },
  {
   "cell_type": "code",
   "execution_count": 38,
   "metadata": {},
   "outputs": [],
   "source": [
    "X = df.drop('benign_0__mal_1',axis=1).values\n",
    "y = df['benign_0__mal_1'].values"
   ]
  },
  {
   "cell_type": "code",
   "execution_count": 39,
   "metadata": {},
   "outputs": [],
   "source": [
    "from sklearn.model_selection import train_test_split"
   ]
  },
  {
   "cell_type": "code",
   "execution_count": 40,
   "metadata": {},
   "outputs": [],
   "source": [
    "X_train, X_test, y_train, y_test = train_test_split(X,y,test_size=0.25,random_state=101)"
   ]
  },
  {
   "cell_type": "markdown",
   "metadata": {},
   "source": [
    "\n",
    "### Scaling Data"
   ]
  },
  {
   "cell_type": "code",
   "execution_count": 41,
   "metadata": {},
   "outputs": [],
   "source": [
    "from sklearn.preprocessing import MinMaxScaler"
   ]
  },
  {
   "cell_type": "code",
   "execution_count": 42,
   "metadata": {},
   "outputs": [],
   "source": [
    "scaler = MinMaxScaler()"
   ]
  },
  {
   "cell_type": "code",
   "execution_count": 43,
   "metadata": {},
   "outputs": [
    {
     "data": {
      "text/plain": [
       "MinMaxScaler()"
      ]
     },
     "execution_count": 43,
     "metadata": {},
     "output_type": "execute_result"
    }
   ],
   "source": [
    "scaler.fit(X_train)"
   ]
  },
  {
   "cell_type": "code",
   "execution_count": 44,
   "metadata": {},
   "outputs": [],
   "source": [
    "X_train = scaler.transform(X_train)\n",
    "X_test = scaler.transform(X_test)"
   ]
  },
  {
   "cell_type": "markdown",
   "metadata": {},
   "source": [
    "## Creating the Model"
   ]
  },
  {
   "cell_type": "code",
   "execution_count": 45,
   "metadata": {},
   "outputs": [],
   "source": [
    "import tensorflow as tf\n",
    "from tensorflow.keras.models import Sequential\n",
    "from tensorflow.keras.layers import Dense, Activation,Dropout"
   ]
  },
  {
   "cell_type": "code",
   "execution_count": 46,
   "metadata": {},
   "outputs": [],
   "source": [
    "from tensorflow.keras.callbacks import EarlyStopping,TensorBoard"
   ]
  },
  {
   "cell_type": "code",
   "execution_count": 47,
   "metadata": {},
   "outputs": [],
   "source": [
    "early_stop = EarlyStopping(monitor='val_loss', mode='min', verbose=1, patience=25)"
   ]
  },
  {
   "cell_type": "code",
   "execution_count": 48,
   "metadata": {},
   "outputs": [
    {
     "data": {
      "text/plain": [
       "'/Users/mahaoxi/Desktop/Machine Learning/Python ML Bootcamp/Deep Learning/TensorFlow'"
      ]
     },
     "execution_count": 48,
     "metadata": {},
     "output_type": "execute_result"
    }
   ],
   "source": [
    "pwd"
   ]
  },
  {
   "cell_type": "markdown",
   "metadata": {},
   "source": [
    "## Creating the Tensorboard Callback\n",
    "\n",
    "TensorBoard is a visualization tool provided with TensorFlow.\n",
    "\n",
    "This callback logs events for TensorBoard, including:\n",
    "* Metrics summary plots\n",
    "* Training graph visualization\n",
    "* Activation histograms\n",
    "* Sampled profiling\n",
    "\n",
    "If you have installed TensorFlow with pip, you should be able\n",
    "to launch TensorBoard from the command line:\n",
    "\n",
    "```sh\n",
    "tensorboard --logdir=path_to_your_logs\n",
    "```\n",
    "\n",
    "You can find more information about TensorBoard\n",
    "[here](https://www.tensorflow.org/tensorboard/).\n",
    "\n",
    "    Arguments:\n",
    "        log_dir: the path of the directory where to save the log files to be\n",
    "          parsed by TensorBoard.\n",
    "        histogram_freq: frequency (in epochs) at which to compute activation and\n",
    "          weight histograms for the layers of the model. If set to 0, histograms\n",
    "          won't be computed. Validation data (or split) must be specified for\n",
    "          histogram visualizations.\n",
    "        write_graph: whether to visualize the graph in TensorBoard. The log file\n",
    "          can become quite large when write_graph is set to True.\n",
    "        write_images: whether to write model weights to visualize as image in\n",
    "          TensorBoard.\n",
    "        update_freq: `'batch'` or `'epoch'` or integer. When using `'batch'`,\n",
    "          writes the losses and metrics to TensorBoard after each batch. The same\n",
    "          applies for `'epoch'`. If using an integer, let's say `1000`, the\n",
    "          callback will write the metrics and losses to TensorBoard every 1000\n",
    "          samples. Note that writing too frequently to TensorBoard can slow down\n",
    "          your training.\n",
    "        profile_batch: Profile the batch to sample compute characteristics. By\n",
    "          default, it will profile the second batch. Set profile_batch=0 to\n",
    "          disable profiling. Must run in TensorFlow eager mode.\n",
    "        embeddings_freq: frequency (in epochs) at which embedding layers will\n",
    "          be visualized. If set to 0, embeddings won't be visualized.\n",
    "       "
   ]
  },
  {
   "cell_type": "code",
   "execution_count": 49,
   "metadata": {},
   "outputs": [],
   "source": [
    "from datetime import datetime"
   ]
  },
  {
   "cell_type": "code",
   "execution_count": 50,
   "metadata": {},
   "outputs": [
    {
     "data": {
      "text/plain": [
       "'2021-06-29--0033'"
      ]
     },
     "execution_count": 50,
     "metadata": {},
     "output_type": "execute_result"
    }
   ],
   "source": [
    "datetime.now().strftime(\"%Y-%m-%d--%H%M\")"
   ]
  },
  {
   "cell_type": "code",
   "execution_count": 51,
   "metadata": {},
   "outputs": [],
   "source": [
    "log_directory = 'logs/fit'\n",
    "\n",
    "# OPTIONAL: ADD A TIMESTAMP FOR UNIQUE FOLDER\n",
    "# timestamp = datetime.now().strftime(\"%Y-%m-%d--%H%M\")\n",
    "# log_directory = log_directory + '\\\\' + timestamp\n",
    "\n",
    "\n",
    "board = TensorBoard(log_dir=log_directory,histogram_freq=1,\n",
    "    write_graph=True,\n",
    "    write_images=True,\n",
    "    update_freq='epoch',\n",
    "    profile_batch=2,\n",
    "    embeddings_freq=1)"
   ]
  },
  {
   "cell_type": "markdown",
   "metadata": {},
   "source": [
    "Now create the model layers:"
   ]
  },
  {
   "cell_type": "code",
   "execution_count": 52,
   "metadata": {},
   "outputs": [],
   "source": [
    "model = Sequential()\n",
    "model.add(Dense(units=30,activation='relu'))\n",
    "model.add(Dropout(0.5))\n",
    "model.add(Dense(units=15,activation='relu'))\n",
    "model.add(Dropout(0.5))\n",
    "model.add(Dense(units=1,activation='sigmoid'))\n",
    "model.compile(loss='binary_crossentropy', optimizer='adam')"
   ]
  },
  {
   "cell_type": "markdown",
   "metadata": {},
   "source": [
    "## Train the Model"
   ]
  },
  {
   "cell_type": "code",
   "execution_count": 53,
   "metadata": {
    "scrolled": true
   },
   "outputs": [
    {
     "name": "stdout",
     "output_type": "stream",
     "text": [
      "Train on 426 samples, validate on 143 samples\n",
      "Epoch 1/600\n",
      "426/426 [==============================] - 2s 4ms/sample - loss: 0.6807 - val_loss: 0.6520\n",
      "Epoch 2/600\n",
      "426/426 [==============================] - 0s 305us/sample - loss: 0.6758 - val_loss: 0.6347\n",
      "Epoch 3/600\n",
      "426/426 [==============================] - 0s 329us/sample - loss: 0.6611 - val_loss: 0.6169\n",
      "Epoch 4/600\n",
      "426/426 [==============================] - 0s 296us/sample - loss: 0.6334 - val_loss: 0.5981\n",
      "Epoch 5/600\n",
      "426/426 [==============================] - 0s 288us/sample - loss: 0.6127 - val_loss: 0.5792\n",
      "Epoch 6/600\n",
      "426/426 [==============================] - 0s 286us/sample - loss: 0.6066 - val_loss: 0.5584\n",
      "Epoch 7/600\n",
      "426/426 [==============================] - 0s 283us/sample - loss: 0.5900 - val_loss: 0.5369\n",
      "Epoch 8/600\n",
      "426/426 [==============================] - 0s 282us/sample - loss: 0.5657 - val_loss: 0.5112\n",
      "Epoch 9/600\n",
      "426/426 [==============================] - 0s 299us/sample - loss: 0.5440 - val_loss: 0.4833\n",
      "Epoch 10/600\n",
      "426/426 [==============================] - 0s 329us/sample - loss: 0.5162 - val_loss: 0.4504\n",
      "Epoch 11/600\n",
      "426/426 [==============================] - 0s 281us/sample - loss: 0.5000 - val_loss: 0.4205\n",
      "Epoch 12/600\n",
      "426/426 [==============================] - 0s 285us/sample - loss: 0.4753 - val_loss: 0.3940\n",
      "Epoch 13/600\n",
      "426/426 [==============================] - 0s 271us/sample - loss: 0.4693 - val_loss: 0.3713\n",
      "Epoch 14/600\n",
      "426/426 [==============================] - 0s 272us/sample - loss: 0.4283 - val_loss: 0.3469\n",
      "Epoch 15/600\n",
      "426/426 [==============================] - 0s 292us/sample - loss: 0.3969 - val_loss: 0.3162\n",
      "Epoch 16/600\n",
      "426/426 [==============================] - 0s 316us/sample - loss: 0.4033 - val_loss: 0.2943\n",
      "Epoch 17/600\n",
      "426/426 [==============================] - 0s 281us/sample - loss: 0.3805 - val_loss: 0.2770\n",
      "Epoch 18/600\n",
      "426/426 [==============================] - 0s 277us/sample - loss: 0.3622 - val_loss: 0.2680\n",
      "Epoch 19/600\n",
      "426/426 [==============================] - 0s 309us/sample - loss: 0.3403 - val_loss: 0.2507\n",
      "Epoch 20/600\n",
      "426/426 [==============================] - 0s 297us/sample - loss: 0.3392 - val_loss: 0.2388\n",
      "Epoch 21/600\n",
      "426/426 [==============================] - 0s 274us/sample - loss: 0.3363 - val_loss: 0.2321\n",
      "Epoch 22/600\n",
      "426/426 [==============================] - 0s 300us/sample - loss: 0.3124 - val_loss: 0.2190\n",
      "Epoch 23/600\n",
      "426/426 [==============================] - 0s 278us/sample - loss: 0.3342 - val_loss: 0.2129\n",
      "Epoch 24/600\n",
      "426/426 [==============================] - 0s 289us/sample - loss: 0.2892 - val_loss: 0.2023\n",
      "Epoch 25/600\n",
      "426/426 [==============================] - 0s 384us/sample - loss: 0.2840 - val_loss: 0.1938\n",
      "Epoch 26/600\n",
      "426/426 [==============================] - 0s 290us/sample - loss: 0.2875 - val_loss: 0.1841\n",
      "Epoch 27/600\n",
      "426/426 [==============================] - 0s 290us/sample - loss: 0.2905 - val_loss: 0.1769\n",
      "Epoch 28/600\n",
      "426/426 [==============================] - 0s 292us/sample - loss: 0.2752 - val_loss: 0.1736\n",
      "Epoch 29/600\n",
      "426/426 [==============================] - 0s 280us/sample - loss: 0.2353 - val_loss: 0.1724\n",
      "Epoch 30/600\n",
      "426/426 [==============================] - 0s 277us/sample - loss: 0.2694 - val_loss: 0.1621\n",
      "Epoch 31/600\n",
      "426/426 [==============================] - 0s 287us/sample - loss: 0.2419 - val_loss: 0.1581\n",
      "Epoch 32/600\n",
      "426/426 [==============================] - 0s 284us/sample - loss: 0.2623 - val_loss: 0.1545\n",
      "Epoch 33/600\n",
      "426/426 [==============================] - 0s 291us/sample - loss: 0.2461 - val_loss: 0.1526\n",
      "Epoch 34/600\n",
      "426/426 [==============================] - 0s 292us/sample - loss: 0.2409 - val_loss: 0.1507\n",
      "Epoch 35/600\n",
      "426/426 [==============================] - 0s 285us/sample - loss: 0.2308 - val_loss: 0.1458\n",
      "Epoch 36/600\n",
      "426/426 [==============================] - 0s 278us/sample - loss: 0.2166 - val_loss: 0.1464\n",
      "Epoch 37/600\n",
      "426/426 [==============================] - 0s 282us/sample - loss: 0.1945 - val_loss: 0.1395\n",
      "Epoch 38/600\n",
      "426/426 [==============================] - 0s 280us/sample - loss: 0.2254 - val_loss: 0.1351\n",
      "Epoch 39/600\n",
      "426/426 [==============================] - 0s 285us/sample - loss: 0.2254 - val_loss: 0.1346\n",
      "Epoch 40/600\n",
      "426/426 [==============================] - 0s 274us/sample - loss: 0.1938 - val_loss: 0.1301\n",
      "Epoch 41/600\n",
      "426/426 [==============================] - 0s 280us/sample - loss: 0.1907 - val_loss: 0.1244\n",
      "Epoch 42/600\n",
      "426/426 [==============================] - 0s 278us/sample - loss: 0.1780 - val_loss: 0.1284\n",
      "Epoch 43/600\n",
      "426/426 [==============================] - 0s 287us/sample - loss: 0.1782 - val_loss: 0.1335\n",
      "Epoch 44/600\n",
      "426/426 [==============================] - 0s 280us/sample - loss: 0.1870 - val_loss: 0.1201\n",
      "Epoch 45/600\n",
      "426/426 [==============================] - 0s 277us/sample - loss: 0.1818 - val_loss: 0.1233\n",
      "Epoch 46/600\n",
      "426/426 [==============================] - 0s 278us/sample - loss: 0.1740 - val_loss: 0.1250\n",
      "Epoch 47/600\n",
      "426/426 [==============================] - 0s 280us/sample - loss: 0.1802 - val_loss: 0.1231\n",
      "Epoch 48/600\n",
      "426/426 [==============================] - 0s 278us/sample - loss: 0.1623 - val_loss: 0.1166\n",
      "Epoch 49/600\n",
      "426/426 [==============================] - 0s 282us/sample - loss: 0.1799 - val_loss: 0.1162\n",
      "Epoch 50/600\n",
      "426/426 [==============================] - 0s 280us/sample - loss: 0.1880 - val_loss: 0.1109\n",
      "Epoch 51/600\n",
      "426/426 [==============================] - 0s 277us/sample - loss: 0.1553 - val_loss: 0.1093\n",
      "Epoch 52/600\n",
      "426/426 [==============================] - 0s 282us/sample - loss: 0.1759 - val_loss: 0.1112\n",
      "Epoch 53/600\n",
      "426/426 [==============================] - 0s 281us/sample - loss: 0.1485 - val_loss: 0.1155\n",
      "Epoch 54/600\n",
      "426/426 [==============================] - 0s 285us/sample - loss: 0.1511 - val_loss: 0.1116\n",
      "Epoch 55/600\n",
      "426/426 [==============================] - 0s 282us/sample - loss: 0.1635 - val_loss: 0.1035\n",
      "Epoch 56/600\n",
      "426/426 [==============================] - 0s 280us/sample - loss: 0.1450 - val_loss: 0.1106\n",
      "Epoch 57/600\n",
      "426/426 [==============================] - 0s 276us/sample - loss: 0.1404 - val_loss: 0.1048\n",
      "Epoch 58/600\n",
      "426/426 [==============================] - 0s 274us/sample - loss: 0.1822 - val_loss: 0.1034\n",
      "Epoch 59/600\n",
      "426/426 [==============================] - 0s 284us/sample - loss: 0.1381 - val_loss: 0.1070\n",
      "Epoch 60/600\n",
      "426/426 [==============================] - 0s 277us/sample - loss: 0.1518 - val_loss: 0.1103\n",
      "Epoch 61/600\n",
      "426/426 [==============================] - 0s 280us/sample - loss: 0.1413 - val_loss: 0.1053\n",
      "Epoch 62/600\n",
      "426/426 [==============================] - 0s 289us/sample - loss: 0.1454 - val_loss: 0.0979\n",
      "Epoch 63/600\n",
      "426/426 [==============================] - 0s 274us/sample - loss: 0.1320 - val_loss: 0.1009\n",
      "Epoch 64/600\n",
      "426/426 [==============================] - 0s 274us/sample - loss: 0.1276 - val_loss: 0.1069\n",
      "Epoch 65/600\n",
      "426/426 [==============================] - 0s 277us/sample - loss: 0.1316 - val_loss: 0.1025\n",
      "Epoch 66/600\n",
      "426/426 [==============================] - 0s 278us/sample - loss: 0.1401 - val_loss: 0.1077\n",
      "Epoch 67/600\n",
      "426/426 [==============================] - 0s 292us/sample - loss: 0.1279 - val_loss: 0.1234\n",
      "Epoch 68/600\n",
      "426/426 [==============================] - 0s 273us/sample - loss: 0.1431 - val_loss: 0.1022\n",
      "Epoch 69/600\n",
      "426/426 [==============================] - 0s 280us/sample - loss: 0.1368 - val_loss: 0.1009\n",
      "Epoch 70/600\n",
      "426/426 [==============================] - 0s 272us/sample - loss: 0.1372 - val_loss: 0.0974\n",
      "Epoch 71/600\n",
      "426/426 [==============================] - 0s 277us/sample - loss: 0.1098 - val_loss: 0.0933\n",
      "Epoch 72/600\n",
      "426/426 [==============================] - 0s 277us/sample - loss: 0.1386 - val_loss: 0.1036\n",
      "Epoch 73/600\n",
      "426/426 [==============================] - 0s 273us/sample - loss: 0.1306 - val_loss: 0.0965\n",
      "Epoch 74/600\n",
      "426/426 [==============================] - 0s 275us/sample - loss: 0.1376 - val_loss: 0.0997\n",
      "Epoch 75/600\n",
      "426/426 [==============================] - 0s 273us/sample - loss: 0.1246 - val_loss: 0.0965\n",
      "Epoch 76/600\n",
      "426/426 [==============================] - 0s 275us/sample - loss: 0.1045 - val_loss: 0.0922\n",
      "Epoch 77/600\n",
      "426/426 [==============================] - 0s 275us/sample - loss: 0.1377 - val_loss: 0.0966\n"
     ]
    },
    {
     "name": "stdout",
     "output_type": "stream",
     "text": [
      "Epoch 78/600\n",
      "426/426 [==============================] - 0s 274us/sample - loss: 0.1357 - val_loss: 0.1109\n",
      "Epoch 79/600\n",
      "426/426 [==============================] - 0s 282us/sample - loss: 0.1111 - val_loss: 0.1078\n",
      "Epoch 80/600\n",
      "426/426 [==============================] - 0s 276us/sample - loss: 0.1104 - val_loss: 0.0907\n",
      "Epoch 81/600\n",
      "426/426 [==============================] - 0s 270us/sample - loss: 0.1426 - val_loss: 0.0918\n",
      "Epoch 82/600\n",
      "426/426 [==============================] - 0s 269us/sample - loss: 0.1230 - val_loss: 0.1103\n",
      "Epoch 83/600\n",
      "426/426 [==============================] - 0s 341us/sample - loss: 0.1226 - val_loss: 0.0922\n",
      "Epoch 84/600\n",
      "426/426 [==============================] - 0s 411us/sample - loss: 0.1065 - val_loss: 0.0930\n",
      "Epoch 85/600\n",
      "426/426 [==============================] - 0s 328us/sample - loss: 0.1282 - val_loss: 0.0965\n",
      "Epoch 86/600\n",
      "426/426 [==============================] - 0s 335us/sample - loss: 0.1233 - val_loss: 0.0997\n",
      "Epoch 87/600\n",
      "426/426 [==============================] - 0s 338us/sample - loss: 0.1016 - val_loss: 0.0880\n",
      "Epoch 88/600\n",
      "426/426 [==============================] - 0s 294us/sample - loss: 0.0980 - val_loss: 0.0895\n",
      "Epoch 89/600\n",
      "426/426 [==============================] - 0s 290us/sample - loss: 0.1060 - val_loss: 0.0939\n",
      "Epoch 90/600\n",
      "426/426 [==============================] - 0s 285us/sample - loss: 0.1156 - val_loss: 0.1054\n",
      "Epoch 91/600\n",
      "426/426 [==============================] - 0s 279us/sample - loss: 0.1195 - val_loss: 0.0883\n",
      "Epoch 92/600\n",
      "426/426 [==============================] - 0s 337us/sample - loss: 0.0964 - val_loss: 0.0941\n",
      "Epoch 93/600\n",
      "426/426 [==============================] - 0s 338us/sample - loss: 0.0959 - val_loss: 0.1017\n",
      "Epoch 94/600\n",
      "426/426 [==============================] - 0s 271us/sample - loss: 0.0938 - val_loss: 0.0920\n",
      "Epoch 95/600\n",
      "426/426 [==============================] - 0s 277us/sample - loss: 0.1010 - val_loss: 0.0935\n",
      "Epoch 96/600\n",
      "426/426 [==============================] - 0s 310us/sample - loss: 0.1045 - val_loss: 0.0962\n",
      "Epoch 97/600\n",
      "426/426 [==============================] - 0s 343us/sample - loss: 0.0795 - val_loss: 0.0926\n",
      "Epoch 98/600\n",
      "426/426 [==============================] - 0s 276us/sample - loss: 0.1038 - val_loss: 0.0995\n",
      "Epoch 99/600\n",
      "426/426 [==============================] - 0s 293us/sample - loss: 0.1116 - val_loss: 0.0932\n",
      "Epoch 100/600\n",
      "426/426 [==============================] - 0s 278us/sample - loss: 0.1153 - val_loss: 0.0870\n",
      "Epoch 101/600\n",
      "426/426 [==============================] - 0s 330us/sample - loss: 0.1039 - val_loss: 0.1062\n",
      "Epoch 102/600\n",
      "426/426 [==============================] - 0s 277us/sample - loss: 0.1120 - val_loss: 0.0977\n",
      "Epoch 103/600\n",
      "426/426 [==============================] - 0s 288us/sample - loss: 0.1115 - val_loss: 0.0893\n",
      "Epoch 104/600\n",
      "426/426 [==============================] - 0s 335us/sample - loss: 0.1036 - val_loss: 0.0843\n",
      "Epoch 105/600\n",
      "426/426 [==============================] - 0s 298us/sample - loss: 0.0860 - val_loss: 0.0902\n",
      "Epoch 106/600\n",
      "426/426 [==============================] - 0s 267us/sample - loss: 0.1019 - val_loss: 0.1101\n",
      "Epoch 107/600\n",
      "426/426 [==============================] - 0s 297us/sample - loss: 0.0985 - val_loss: 0.0917\n",
      "Epoch 108/600\n",
      "426/426 [==============================] - 0s 322us/sample - loss: 0.0958 - val_loss: 0.0953\n",
      "Epoch 109/600\n",
      "426/426 [==============================] - 0s 280us/sample - loss: 0.0865 - val_loss: 0.0924\n",
      "Epoch 110/600\n",
      "426/426 [==============================] - 0s 309us/sample - loss: 0.1015 - val_loss: 0.0916\n",
      "Epoch 111/600\n",
      "426/426 [==============================] - 0s 324us/sample - loss: 0.1099 - val_loss: 0.0998\n",
      "Epoch 112/600\n",
      "426/426 [==============================] - 0s 263us/sample - loss: 0.0987 - val_loss: 0.0895\n",
      "Epoch 113/600\n",
      "426/426 [==============================] - 0s 280us/sample - loss: 0.0879 - val_loss: 0.1001\n",
      "Epoch 114/600\n",
      "426/426 [==============================] - 0s 398us/sample - loss: 0.1131 - val_loss: 0.0907\n",
      "Epoch 115/600\n",
      "426/426 [==============================] - 0s 317us/sample - loss: 0.0866 - val_loss: 0.0925\n",
      "Epoch 116/600\n",
      "426/426 [==============================] - 0s 304us/sample - loss: 0.1060 - val_loss: 0.1010\n",
      "Epoch 117/600\n",
      "426/426 [==============================] - 0s 305us/sample - loss: 0.0895 - val_loss: 0.0912\n",
      "Epoch 118/600\n",
      "426/426 [==============================] - 0s 408us/sample - loss: 0.0961 - val_loss: 0.0889\n",
      "Epoch 119/600\n",
      "426/426 [==============================] - 0s 295us/sample - loss: 0.0759 - val_loss: 0.0963\n",
      "Epoch 120/600\n",
      "426/426 [==============================] - 0s 303us/sample - loss: 0.0800 - val_loss: 0.1108\n",
      "Epoch 121/600\n",
      "426/426 [==============================] - 0s 288us/sample - loss: 0.1079 - val_loss: 0.1052\n",
      "Epoch 122/600\n",
      "426/426 [==============================] - 0s 308us/sample - loss: 0.0904 - val_loss: 0.0983\n",
      "Epoch 123/600\n",
      "426/426 [==============================] - 0s 286us/sample - loss: 0.0913 - val_loss: 0.0924\n",
      "Epoch 124/600\n",
      "426/426 [==============================] - 0s 287us/sample - loss: 0.0902 - val_loss: 0.1008\n",
      "Epoch 125/600\n",
      "426/426 [==============================] - 0s 281us/sample - loss: 0.0952 - val_loss: 0.0891\n",
      "Epoch 126/600\n",
      "426/426 [==============================] - 0s 279us/sample - loss: 0.0833 - val_loss: 0.0943\n",
      "Epoch 127/600\n",
      "426/426 [==============================] - 0s 290us/sample - loss: 0.1069 - val_loss: 0.0949\n",
      "Epoch 128/600\n",
      "426/426 [==============================] - 0s 297us/sample - loss: 0.0958 - val_loss: 0.0964\n",
      "Epoch 129/600\n",
      "426/426 [==============================] - 0s 345us/sample - loss: 0.0973 - val_loss: 0.0973\n",
      "Epoch 00129: early stopping\n"
     ]
    },
    {
     "data": {
      "text/plain": [
       "<tensorflow.python.keras.callbacks.History at 0x7f89242c84d0>"
      ]
     },
     "execution_count": 53,
     "metadata": {},
     "output_type": "execute_result"
    }
   ],
   "source": [
    "model.fit(x=X_train, \n",
    "          y=y_train, \n",
    "          epochs=600,\n",
    "          validation_data=(X_test, y_test), verbose=1,\n",
    "          callbacks=[early_stop,board]\n",
    "          )"
   ]
  },
  {
   "cell_type": "markdown",
   "metadata": {},
   "source": [
    "# Running Tensorboard\n"
   ]
  },
  {
   "cell_type": "markdown",
   "metadata": {},
   "source": [
    "Tensorboard will run locally in your browser at [http://localhost:6006/](http://localhost:6006/)\n"
   ]
  },
  {
   "cell_type": "code",
   "execution_count": 54,
   "metadata": {},
   "outputs": [
    {
     "name": "stdout",
     "output_type": "stream",
     "text": [
      "logs/fit\n"
     ]
    }
   ],
   "source": [
    "print(log_directory)"
   ]
  },
  {
   "cell_type": "code",
   "execution_count": 55,
   "metadata": {},
   "outputs": [
    {
     "data": {
      "text/plain": [
       "'/Users/mahaoxi/Desktop/Machine Learning/Python ML Bootcamp/Deep Learning/TensorFlow'"
      ]
     },
     "execution_count": 55,
     "metadata": {},
     "output_type": "execute_result"
    }
   ],
   "source": [
    "pwd"
   ]
  },
  {
   "cell_type": "markdown",
   "metadata": {},
   "source": [
    "**Open terminal and run the code below:**"
   ]
  },
  {
   "cell_type": "markdown",
   "metadata": {},
   "source": [
    "    tensorboard --logdir='/Users/mahaoxi/Desktop/Machine Learning/Python ML Bootcamp/Deep Learning/TensorFlow/logs/fit'"
   ]
  }
 ],
 "metadata": {
  "kernelspec": {
   "display_name": "Python 3",
   "language": "python",
   "name": "python3"
  },
  "language_info": {
   "codemirror_mode": {
    "name": "ipython",
    "version": 3
   },
   "file_extension": ".py",
   "mimetype": "text/x-python",
   "name": "python",
   "nbconvert_exporter": "python",
   "pygments_lexer": "ipython3",
   "version": "3.7.7"
  },
  "toc": {
   "base_numbering": 1,
   "nav_menu": {},
   "number_sections": true,
   "sideBar": true,
   "skip_h1_title": false,
   "title_cell": "Table of Contents",
   "title_sidebar": "Contents",
   "toc_cell": false,
   "toc_position": {},
   "toc_section_display": true,
   "toc_window_display": false
  },
  "varInspector": {
   "cols": {
    "lenName": 16,
    "lenType": 16,
    "lenVar": 40
   },
   "kernels_config": {
    "python": {
     "delete_cmd_postfix": "",
     "delete_cmd_prefix": "del ",
     "library": "var_list.py",
     "varRefreshCmd": "print(var_dic_list())"
    },
    "r": {
     "delete_cmd_postfix": ") ",
     "delete_cmd_prefix": "rm(",
     "library": "var_list.r",
     "varRefreshCmd": "cat(var_dic_list()) "
    }
   },
   "types_to_exclude": [
    "module",
    "function",
    "builtin_function_or_method",
    "instance",
    "_Feature"
   ],
   "window_display": true
  }
 },
 "nbformat": 4,
 "nbformat_minor": 2
}
